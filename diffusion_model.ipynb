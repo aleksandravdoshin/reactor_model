{
 "cells": [
  {
   "cell_type": "code",
   "execution_count": 48,
   "metadata": {},
   "outputs": [
    {
     "name": "stdout",
     "output_type": "stream",
     "text": [
      "0.0026769210360547673\n",
      "0.00015634153695897896\n",
      "4.43063391791335e-05\n",
      "2.0445235968633645e-05\n",
      "1.170699901433821e-05\n",
      "7.570389624321761e-06\n",
      "5.292826482238794e-06\n",
      "3.907118524560599e-06\n",
      "3.0019395068389683e-06\n",
      "2.3783497698162693e-06\n"
     ]
    }
   ],
   "source": [
    "import numpy as np\n",
    "import pandas as pd\n",
    "\n",
    "def calculate_concentration_and_flux(D0, D1, initial_concentration, thickness, time_steps, delta_t, delta_z):\n",
    "    # Number of spatial points\n",
    "    n_points = int(thickness / delta_z) + 1\n",
    "    \n",
    "    # Initialize the concentration profile and diffusion coefficients\n",
    "    concentration = np.zeros(n_points)\n",
    "    diffusion_coefficients = np.zeros(n_points)\n",
    "    \n",
    "    # Setting the properties for the two materials\n",
    "    halfway_point = n_points // 2\n",
    "    concentration[:halfway_point] = initial_concentration\n",
    "    diffusion_coefficients[:halfway_point] = D0\n",
    "    diffusion_coefficients[halfway_point:] = D1\n",
    "\n",
    "    # List to store data at each time step\n",
    "    data = []\n",
    "\n",
    "    # List to store concentration profiles at each time step\n",
    "    concentration_during_time = []\n",
    "\n",
    "    # Time stepping loop\n",
    "    for t in range(time_steps):\n",
    "        # Create a copy to store the new concentrations\n",
    "        new_concentration = concentration.copy()\n",
    "\n",
    "        # Loop over all points including boundaries (except the first and last points)\n",
    "        for i in range(1, n_points - 1):\n",
    "            # Apply the finite difference method with varying diffusion coefficients\n",
    "            avg_diffusion_coefficient = 0.5 * (diffusion_coefficients[i-1] + diffusion_coefficients[i])\n",
    "            new_concentration[i] = concentration[i] + avg_diffusion_coefficient * delta_t / delta_z**2 * (concentration[i-1] - 2*concentration[i] + concentration[i+1])\n",
    "        \n",
    "\n",
    "        # Calculate the flux at the boundary (z=0) using a central difference scheme\n",
    "        flux = (concentration[1:halfway_point].mean() - new_concentration[1:halfway_point].mean()) / delta_t\n",
    "        \n",
    "        # Store time and flux at this time step\n",
    "        data.append({\n",
    "            'Time': t * delta_t,\n",
    "            'Flux': flux\n",
    "        })\n",
    "        \n",
    "        # Append the concentration profile at this time step to the list\n",
    "        concentration_during_time.append(concentration.copy())\n",
    "        \n",
    "        # Update the concentration profile\n",
    "        concentration = new_concentration.copy()\n",
    "        concentration[halfway_point:] *= 0\n",
    "\n",
    "    # Convert the list of concentration profiles to a NumPy array\n",
    "    concentration_during_time = np.array(concentration_during_time)\n",
    "\n",
    "    # Create a data frame from the data\n",
    "    df = pd.DataFrame(data)\n",
    "\n",
    "    # Return the data frame and the concentration array\n",
    "    return df, concentration_during_time\n",
    "\n",
    "# Usage:\n",
    "\n",
    "data = []\n",
    "for i in np.linspace(1e-3, 1e-1, 10):\n",
    "    for c in [1e-2]:\n",
    "        dft, concentr = calculate_concentration_and_flux(\n",
    "                    D0=1e-8, D1=1e-3, initial_concentration=c, thickness=i, \n",
    "                    time_steps=10000, delta_t=1e-3, delta_z=i/10)\n",
    "        data.append([dft.tail(1000).Flux.mean(), i, c])\n",
    "        print(concentr[:, :5].std())\n",
    "    \n",
    "\n",
    "df = pd.DataFrame(data, columns=['Flux', 'Thickness', 'Concentration'])"
   ]
  },
  {
   "cell_type": "code",
   "execution_count": 49,
   "metadata": {},
   "outputs": [
    {
     "data": {
      "text/plain": [
       "<Axes: xlabel='Thickness'>"
      ]
     },
     "execution_count": 49,
     "metadata": {},
     "output_type": "execute_result"
    },
    {
     "data": {
      "image/png": "[encoded data removed]",
      "text/plain": [
       "<Figure size 640x480 with 1 Axes>"
      ]
     },
     "metadata": {},
     "output_type": "display_data"
    }
   ],
   "source": [
    "df.plot(x='Thickness', y='Flux', style='o-', logy=True)"
   ]
  }
 ],
 "metadata": {
  "kernelspec": {
   "display_name": "base",
   "language": "python",
   "name": "python3"
  },
  "language_info": {
   "codemirror_mode": {
    "name": "ipython",
    "version": 3
   },
   "file_extension": ".py",
   "mimetype": "text/x-python",
   "name": "python",
   "nbconvert_exporter": "python",
   "pygments_lexer": "ipython3",
   "version": "3.11.3"
  },
  "orig_nbformat": 4
 },
 "nbformat": 4,
 "nbformat_minor": 2
}
